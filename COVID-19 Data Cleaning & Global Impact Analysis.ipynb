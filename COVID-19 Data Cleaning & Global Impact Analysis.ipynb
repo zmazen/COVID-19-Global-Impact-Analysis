{
 "cells": [
  {
   "cell_type": "markdown",
   "id": "d10c07a9",
   "metadata": {},
   "source": [
    "# **Global COVID-19 Data Analysis**\n",
    "\n",
    "## Project Objective\n",
    "This project analyzes global COVID-19 data from Our World in Data to explore pandemic trends, country-level impacts, and the relationship between socio-economic indicators and COVID-19 outcomes. \n",
    "\n",
    "The goal is to provide a clean, well-structured dataset and a visually rich exploratory analysis that can highlight key insights for portfolio presentation.\n",
    "\n",
    "## Dataset\n",
    "The dataset includes:\n",
    "- **Location** (country name)\n",
    "- **Date** (daily records)\n",
    "- **Total Cases** (cumulative COVID-19 cases)\n",
    "- **Total Deaths** (cumulative COVID-19 deaths)\n",
    "- **Gdp Per Capita** (economic indicator)\n",
    "- **Human Development Index** (development indicator)"
   ]
  },
  {
   "cell_type": "code",
   "execution_count": 40,
   "id": "7a2be099",
   "metadata": {},
   "outputs": [],
   "source": [
    "import pandas as pd"
   ]
  },
  {
   "cell_type": "markdown",
   "id": "8b3642ae",
   "metadata": {},
   "source": [
    "### **Loading the COVID-19 Dataset**\n",
    "\n",
    "The raw COVID-19 data is imported from a CSV file into a **pandas DataFrame**, which allows for efficient data manipulation and analysis. The dataset contains **country-level daily statistics** including COVID-19 cases, deaths, and socio-economic indicators. \n",
    "\n",
    "Displaying the DataFrame provides an initial view of the structure, helping to identify:\n",
    "- **Missing values** in fields like GDP per capita and HDI\n",
    "- **Aggregate rows** such as \"International\" without a specific country\n",
    "- Opportunities for **data cleaning and preprocessing** before analysis"
   ]
  },
  {
   "cell_type": "code",
   "execution_count": 41,
   "id": "cc36a1b2",
   "metadata": {},
   "outputs": [
    {
     "data": {
      "text/html": [
       "<div>\n",
       "<style scoped>\n",
       "    .dataframe tbody tr th:only-of-type {\n",
       "        vertical-align: middle;\n",
       "    }\n",
       "\n",
       "    .dataframe tbody tr th {\n",
       "        vertical-align: top;\n",
       "    }\n",
       "\n",
       "    .dataframe thead th {\n",
       "        text-align: right;\n",
       "    }\n",
       "</style>\n",
       "<table border=\"1\" class=\"dataframe\">\n",
       "  <thead>\n",
       "    <tr style=\"text-align: right;\">\n",
       "      <th></th>\n",
       "      <th>iso_code</th>\n",
       "      <th>continent</th>\n",
       "      <th>location</th>\n",
       "      <th>date</th>\n",
       "      <th>total_cases</th>\n",
       "      <th>new_cases</th>\n",
       "      <th>new_cases_smoothed</th>\n",
       "      <th>total_deaths</th>\n",
       "      <th>new_deaths</th>\n",
       "      <th>new_deaths_smoothed</th>\n",
       "      <th>...</th>\n",
       "      <th>gdp_per_capita</th>\n",
       "      <th>extreme_poverty</th>\n",
       "      <th>cardiovasc_death_rate</th>\n",
       "      <th>diabetes_prevalence</th>\n",
       "      <th>female_smokers</th>\n",
       "      <th>male_smokers</th>\n",
       "      <th>handwashing_facilities</th>\n",
       "      <th>hospital_beds_per_thousand</th>\n",
       "      <th>life_expectancy</th>\n",
       "      <th>human_development_index</th>\n",
       "    </tr>\n",
       "  </thead>\n",
       "  <tbody>\n",
       "    <tr>\n",
       "      <th>0</th>\n",
       "      <td>AFG</td>\n",
       "      <td>Asia</td>\n",
       "      <td>Afghanistan</td>\n",
       "      <td>2019-12-31</td>\n",
       "      <td>0.0</td>\n",
       "      <td>0.0</td>\n",
       "      <td>NaN</td>\n",
       "      <td>0.0</td>\n",
       "      <td>0.0</td>\n",
       "      <td>NaN</td>\n",
       "      <td>...</td>\n",
       "      <td>1803.987</td>\n",
       "      <td>NaN</td>\n",
       "      <td>597.029</td>\n",
       "      <td>9.59</td>\n",
       "      <td>NaN</td>\n",
       "      <td>NaN</td>\n",
       "      <td>37.746</td>\n",
       "      <td>0.5</td>\n",
       "      <td>64.83</td>\n",
       "      <td>0.498</td>\n",
       "    </tr>\n",
       "    <tr>\n",
       "      <th>1</th>\n",
       "      <td>AFG</td>\n",
       "      <td>Asia</td>\n",
       "      <td>Afghanistan</td>\n",
       "      <td>2020-01-01</td>\n",
       "      <td>0.0</td>\n",
       "      <td>0.0</td>\n",
       "      <td>NaN</td>\n",
       "      <td>0.0</td>\n",
       "      <td>0.0</td>\n",
       "      <td>NaN</td>\n",
       "      <td>...</td>\n",
       "      <td>1803.987</td>\n",
       "      <td>NaN</td>\n",
       "      <td>597.029</td>\n",
       "      <td>9.59</td>\n",
       "      <td>NaN</td>\n",
       "      <td>NaN</td>\n",
       "      <td>37.746</td>\n",
       "      <td>0.5</td>\n",
       "      <td>64.83</td>\n",
       "      <td>0.498</td>\n",
       "    </tr>\n",
       "    <tr>\n",
       "      <th>2</th>\n",
       "      <td>AFG</td>\n",
       "      <td>Asia</td>\n",
       "      <td>Afghanistan</td>\n",
       "      <td>2020-01-02</td>\n",
       "      <td>0.0</td>\n",
       "      <td>0.0</td>\n",
       "      <td>NaN</td>\n",
       "      <td>0.0</td>\n",
       "      <td>0.0</td>\n",
       "      <td>NaN</td>\n",
       "      <td>...</td>\n",
       "      <td>1803.987</td>\n",
       "      <td>NaN</td>\n",
       "      <td>597.029</td>\n",
       "      <td>9.59</td>\n",
       "      <td>NaN</td>\n",
       "      <td>NaN</td>\n",
       "      <td>37.746</td>\n",
       "      <td>0.5</td>\n",
       "      <td>64.83</td>\n",
       "      <td>0.498</td>\n",
       "    </tr>\n",
       "    <tr>\n",
       "      <th>3</th>\n",
       "      <td>AFG</td>\n",
       "      <td>Asia</td>\n",
       "      <td>Afghanistan</td>\n",
       "      <td>2020-01-03</td>\n",
       "      <td>0.0</td>\n",
       "      <td>0.0</td>\n",
       "      <td>NaN</td>\n",
       "      <td>0.0</td>\n",
       "      <td>0.0</td>\n",
       "      <td>NaN</td>\n",
       "      <td>...</td>\n",
       "      <td>1803.987</td>\n",
       "      <td>NaN</td>\n",
       "      <td>597.029</td>\n",
       "      <td>9.59</td>\n",
       "      <td>NaN</td>\n",
       "      <td>NaN</td>\n",
       "      <td>37.746</td>\n",
       "      <td>0.5</td>\n",
       "      <td>64.83</td>\n",
       "      <td>0.498</td>\n",
       "    </tr>\n",
       "    <tr>\n",
       "      <th>4</th>\n",
       "      <td>AFG</td>\n",
       "      <td>Asia</td>\n",
       "      <td>Afghanistan</td>\n",
       "      <td>2020-01-04</td>\n",
       "      <td>0.0</td>\n",
       "      <td>0.0</td>\n",
       "      <td>NaN</td>\n",
       "      <td>0.0</td>\n",
       "      <td>0.0</td>\n",
       "      <td>NaN</td>\n",
       "      <td>...</td>\n",
       "      <td>1803.987</td>\n",
       "      <td>NaN</td>\n",
       "      <td>597.029</td>\n",
       "      <td>9.59</td>\n",
       "      <td>NaN</td>\n",
       "      <td>NaN</td>\n",
       "      <td>37.746</td>\n",
       "      <td>0.5</td>\n",
       "      <td>64.83</td>\n",
       "      <td>0.498</td>\n",
       "    </tr>\n",
       "    <tr>\n",
       "      <th>...</th>\n",
       "      <td>...</td>\n",
       "      <td>...</td>\n",
       "      <td>...</td>\n",
       "      <td>...</td>\n",
       "      <td>...</td>\n",
       "      <td>...</td>\n",
       "      <td>...</td>\n",
       "      <td>...</td>\n",
       "      <td>...</td>\n",
       "      <td>...</td>\n",
       "      <td>...</td>\n",
       "      <td>...</td>\n",
       "      <td>...</td>\n",
       "      <td>...</td>\n",
       "      <td>...</td>\n",
       "      <td>...</td>\n",
       "      <td>...</td>\n",
       "      <td>...</td>\n",
       "      <td>...</td>\n",
       "      <td>...</td>\n",
       "      <td>...</td>\n",
       "    </tr>\n",
       "    <tr>\n",
       "      <th>44780</th>\n",
       "      <td>NaN</td>\n",
       "      <td>NaN</td>\n",
       "      <td>International</td>\n",
       "      <td>2020-09-15</td>\n",
       "      <td>696.0</td>\n",
       "      <td>NaN</td>\n",
       "      <td>NaN</td>\n",
       "      <td>7.0</td>\n",
       "      <td>NaN</td>\n",
       "      <td>NaN</td>\n",
       "      <td>...</td>\n",
       "      <td>NaN</td>\n",
       "      <td>NaN</td>\n",
       "      <td>NaN</td>\n",
       "      <td>NaN</td>\n",
       "      <td>NaN</td>\n",
       "      <td>NaN</td>\n",
       "      <td>NaN</td>\n",
       "      <td>NaN</td>\n",
       "      <td>NaN</td>\n",
       "      <td>NaN</td>\n",
       "    </tr>\n",
       "    <tr>\n",
       "      <th>44781</th>\n",
       "      <td>NaN</td>\n",
       "      <td>NaN</td>\n",
       "      <td>International</td>\n",
       "      <td>2020-09-16</td>\n",
       "      <td>696.0</td>\n",
       "      <td>NaN</td>\n",
       "      <td>NaN</td>\n",
       "      <td>7.0</td>\n",
       "      <td>NaN</td>\n",
       "      <td>NaN</td>\n",
       "      <td>...</td>\n",
       "      <td>NaN</td>\n",
       "      <td>NaN</td>\n",
       "      <td>NaN</td>\n",
       "      <td>NaN</td>\n",
       "      <td>NaN</td>\n",
       "      <td>NaN</td>\n",
       "      <td>NaN</td>\n",
       "      <td>NaN</td>\n",
       "      <td>NaN</td>\n",
       "      <td>NaN</td>\n",
       "    </tr>\n",
       "    <tr>\n",
       "      <th>44782</th>\n",
       "      <td>NaN</td>\n",
       "      <td>NaN</td>\n",
       "      <td>International</td>\n",
       "      <td>2020-09-17</td>\n",
       "      <td>696.0</td>\n",
       "      <td>NaN</td>\n",
       "      <td>NaN</td>\n",
       "      <td>7.0</td>\n",
       "      <td>NaN</td>\n",
       "      <td>NaN</td>\n",
       "      <td>...</td>\n",
       "      <td>NaN</td>\n",
       "      <td>NaN</td>\n",
       "      <td>NaN</td>\n",
       "      <td>NaN</td>\n",
       "      <td>NaN</td>\n",
       "      <td>NaN</td>\n",
       "      <td>NaN</td>\n",
       "      <td>NaN</td>\n",
       "      <td>NaN</td>\n",
       "      <td>NaN</td>\n",
       "    </tr>\n",
       "    <tr>\n",
       "      <th>44783</th>\n",
       "      <td>NaN</td>\n",
       "      <td>NaN</td>\n",
       "      <td>International</td>\n",
       "      <td>2020-09-18</td>\n",
       "      <td>696.0</td>\n",
       "      <td>NaN</td>\n",
       "      <td>NaN</td>\n",
       "      <td>7.0</td>\n",
       "      <td>NaN</td>\n",
       "      <td>NaN</td>\n",
       "      <td>...</td>\n",
       "      <td>NaN</td>\n",
       "      <td>NaN</td>\n",
       "      <td>NaN</td>\n",
       "      <td>NaN</td>\n",
       "      <td>NaN</td>\n",
       "      <td>NaN</td>\n",
       "      <td>NaN</td>\n",
       "      <td>NaN</td>\n",
       "      <td>NaN</td>\n",
       "      <td>NaN</td>\n",
       "    </tr>\n",
       "    <tr>\n",
       "      <th>44784</th>\n",
       "      <td>NaN</td>\n",
       "      <td>NaN</td>\n",
       "      <td>International</td>\n",
       "      <td>2020-09-19</td>\n",
       "      <td>696.0</td>\n",
       "      <td>NaN</td>\n",
       "      <td>NaN</td>\n",
       "      <td>7.0</td>\n",
       "      <td>NaN</td>\n",
       "      <td>NaN</td>\n",
       "      <td>...</td>\n",
       "      <td>NaN</td>\n",
       "      <td>NaN</td>\n",
       "      <td>NaN</td>\n",
       "      <td>NaN</td>\n",
       "      <td>NaN</td>\n",
       "      <td>NaN</td>\n",
       "      <td>NaN</td>\n",
       "      <td>NaN</td>\n",
       "      <td>NaN</td>\n",
       "      <td>NaN</td>\n",
       "    </tr>\n",
       "  </tbody>\n",
       "</table>\n",
       "<p>44785 rows × 41 columns</p>\n",
       "</div>"
      ],
      "text/plain": [
       "      iso_code continent       location        date  total_cases  new_cases  \\\n",
       "0          AFG      Asia    Afghanistan  2019-12-31          0.0        0.0   \n",
       "1          AFG      Asia    Afghanistan  2020-01-01          0.0        0.0   \n",
       "2          AFG      Asia    Afghanistan  2020-01-02          0.0        0.0   \n",
       "3          AFG      Asia    Afghanistan  2020-01-03          0.0        0.0   \n",
       "4          AFG      Asia    Afghanistan  2020-01-04          0.0        0.0   \n",
       "...        ...       ...            ...         ...          ...        ...   \n",
       "44780      NaN       NaN  International  2020-09-15        696.0        NaN   \n",
       "44781      NaN       NaN  International  2020-09-16        696.0        NaN   \n",
       "44782      NaN       NaN  International  2020-09-17        696.0        NaN   \n",
       "44783      NaN       NaN  International  2020-09-18        696.0        NaN   \n",
       "44784      NaN       NaN  International  2020-09-19        696.0        NaN   \n",
       "\n",
       "       new_cases_smoothed  total_deaths  new_deaths  new_deaths_smoothed  ...  \\\n",
       "0                     NaN           0.0         0.0                  NaN  ...   \n",
       "1                     NaN           0.0         0.0                  NaN  ...   \n",
       "2                     NaN           0.0         0.0                  NaN  ...   \n",
       "3                     NaN           0.0         0.0                  NaN  ...   \n",
       "4                     NaN           0.0         0.0                  NaN  ...   \n",
       "...                   ...           ...         ...                  ...  ...   \n",
       "44780                 NaN           7.0         NaN                  NaN  ...   \n",
       "44781                 NaN           7.0         NaN                  NaN  ...   \n",
       "44782                 NaN           7.0         NaN                  NaN  ...   \n",
       "44783                 NaN           7.0         NaN                  NaN  ...   \n",
       "44784                 NaN           7.0         NaN                  NaN  ...   \n",
       "\n",
       "       gdp_per_capita  extreme_poverty  cardiovasc_death_rate  \\\n",
       "0            1803.987              NaN                597.029   \n",
       "1            1803.987              NaN                597.029   \n",
       "2            1803.987              NaN                597.029   \n",
       "3            1803.987              NaN                597.029   \n",
       "4            1803.987              NaN                597.029   \n",
       "...               ...              ...                    ...   \n",
       "44780             NaN              NaN                    NaN   \n",
       "44781             NaN              NaN                    NaN   \n",
       "44782             NaN              NaN                    NaN   \n",
       "44783             NaN              NaN                    NaN   \n",
       "44784             NaN              NaN                    NaN   \n",
       "\n",
       "       diabetes_prevalence  female_smokers  male_smokers  \\\n",
       "0                     9.59             NaN           NaN   \n",
       "1                     9.59             NaN           NaN   \n",
       "2                     9.59             NaN           NaN   \n",
       "3                     9.59             NaN           NaN   \n",
       "4                     9.59             NaN           NaN   \n",
       "...                    ...             ...           ...   \n",
       "44780                  NaN             NaN           NaN   \n",
       "44781                  NaN             NaN           NaN   \n",
       "44782                  NaN             NaN           NaN   \n",
       "44783                  NaN             NaN           NaN   \n",
       "44784                  NaN             NaN           NaN   \n",
       "\n",
       "       handwashing_facilities  hospital_beds_per_thousand  life_expectancy  \\\n",
       "0                      37.746                         0.5            64.83   \n",
       "1                      37.746                         0.5            64.83   \n",
       "2                      37.746                         0.5            64.83   \n",
       "3                      37.746                         0.5            64.83   \n",
       "4                      37.746                         0.5            64.83   \n",
       "...                       ...                         ...              ...   \n",
       "44780                     NaN                         NaN              NaN   \n",
       "44781                     NaN                         NaN              NaN   \n",
       "44782                     NaN                         NaN              NaN   \n",
       "44783                     NaN                         NaN              NaN   \n",
       "44784                     NaN                         NaN              NaN   \n",
       "\n",
       "       human_development_index  \n",
       "0                        0.498  \n",
       "1                        0.498  \n",
       "2                        0.498  \n",
       "3                        0.498  \n",
       "4                        0.498  \n",
       "...                        ...  \n",
       "44780                      NaN  \n",
       "44781                      NaN  \n",
       "44782                      NaN  \n",
       "44783                      NaN  \n",
       "44784                      NaN  \n",
       "\n",
       "[44785 rows x 41 columns]"
      ]
     },
     "execution_count": 41,
     "metadata": {},
     "output_type": "execute_result"
    }
   ],
   "source": [
    "df_covid = pd.read_csv(\"owid-covid-data.csv\")\n",
    "df_covid"
   ]
  },
  {
   "cell_type": "markdown",
   "id": "ff93db7c",
   "metadata": {},
   "source": [
    "### **Selecting Relevant Columns**\n",
    "\n",
    "From the original **41 columns**, only six are retained for focused analysis:\n",
    "- `location` – country name  \n",
    "- `date` – daily record  \n",
    "- `total_cases` – cumulative COVID-19 cases  \n",
    "- `total_deaths` – cumulative COVID-19 deaths  \n",
    "- `gdp_per_capita` – economic indicator  \n",
    "- `human_development_index` – development indicator  \n",
    "\n",
    "This step **simplifies the dataset**, reduces processing complexity, and ensures we focus on the **most critical health and socio-economic metrics** for the analysis."
   ]
  },
  {
   "cell_type": "code",
   "execution_count": 42,
   "id": "ada8e8c9",
   "metadata": {},
   "outputs": [],
   "source": [
    "cols = [\"location\", \"date\", \"total_cases\",\n",
    "        \"total_deaths\",\"gdp_per_capita\", \"human_development_index\"]\n",
    "\n",
    "df_covid = df_covid[cols]"
   ]
  },
  {
   "cell_type": "markdown",
   "id": "dfe44dd5",
   "metadata": {},
   "source": [
    "### **Previewing the Dataset**\n",
    "\n",
    "Displaying the filtered DataFrame provides a **quick snapshot** of the cleaned dataset. It allows us to:\n",
    "- Verify that the **relevant columns** have been correctly retained  \n",
    "- Inspect the **data types and values**  \n",
    "- Identify any **immediate issues**, such as missing values or inconsistencies, before proceeding with further cleaning and analysis"
   ]
  },
  {
   "cell_type": "code",
   "execution_count": 43,
   "id": "52b4d9f1",
   "metadata": {},
   "outputs": [
    {
     "data": {
      "text/html": [
       "<div>\n",
       "<style scoped>\n",
       "    .dataframe tbody tr th:only-of-type {\n",
       "        vertical-align: middle;\n",
       "    }\n",
       "\n",
       "    .dataframe tbody tr th {\n",
       "        vertical-align: top;\n",
       "    }\n",
       "\n",
       "    .dataframe thead th {\n",
       "        text-align: right;\n",
       "    }\n",
       "</style>\n",
       "<table border=\"1\" class=\"dataframe\">\n",
       "  <thead>\n",
       "    <tr style=\"text-align: right;\">\n",
       "      <th></th>\n",
       "      <th>location</th>\n",
       "      <th>date</th>\n",
       "      <th>total_cases</th>\n",
       "      <th>total_deaths</th>\n",
       "      <th>gdp_per_capita</th>\n",
       "      <th>human_development_index</th>\n",
       "    </tr>\n",
       "  </thead>\n",
       "  <tbody>\n",
       "    <tr>\n",
       "      <th>0</th>\n",
       "      <td>Afghanistan</td>\n",
       "      <td>2019-12-31</td>\n",
       "      <td>0.0</td>\n",
       "      <td>0.0</td>\n",
       "      <td>1803.987</td>\n",
       "      <td>0.498</td>\n",
       "    </tr>\n",
       "    <tr>\n",
       "      <th>1</th>\n",
       "      <td>Afghanistan</td>\n",
       "      <td>2020-01-01</td>\n",
       "      <td>0.0</td>\n",
       "      <td>0.0</td>\n",
       "      <td>1803.987</td>\n",
       "      <td>0.498</td>\n",
       "    </tr>\n",
       "    <tr>\n",
       "      <th>2</th>\n",
       "      <td>Afghanistan</td>\n",
       "      <td>2020-01-02</td>\n",
       "      <td>0.0</td>\n",
       "      <td>0.0</td>\n",
       "      <td>1803.987</td>\n",
       "      <td>0.498</td>\n",
       "    </tr>\n",
       "    <tr>\n",
       "      <th>3</th>\n",
       "      <td>Afghanistan</td>\n",
       "      <td>2020-01-03</td>\n",
       "      <td>0.0</td>\n",
       "      <td>0.0</td>\n",
       "      <td>1803.987</td>\n",
       "      <td>0.498</td>\n",
       "    </tr>\n",
       "    <tr>\n",
       "      <th>4</th>\n",
       "      <td>Afghanistan</td>\n",
       "      <td>2020-01-04</td>\n",
       "      <td>0.0</td>\n",
       "      <td>0.0</td>\n",
       "      <td>1803.987</td>\n",
       "      <td>0.498</td>\n",
       "    </tr>\n",
       "    <tr>\n",
       "      <th>...</th>\n",
       "      <td>...</td>\n",
       "      <td>...</td>\n",
       "      <td>...</td>\n",
       "      <td>...</td>\n",
       "      <td>...</td>\n",
       "      <td>...</td>\n",
       "    </tr>\n",
       "    <tr>\n",
       "      <th>44780</th>\n",
       "      <td>International</td>\n",
       "      <td>2020-09-15</td>\n",
       "      <td>696.0</td>\n",
       "      <td>7.0</td>\n",
       "      <td>NaN</td>\n",
       "      <td>NaN</td>\n",
       "    </tr>\n",
       "    <tr>\n",
       "      <th>44781</th>\n",
       "      <td>International</td>\n",
       "      <td>2020-09-16</td>\n",
       "      <td>696.0</td>\n",
       "      <td>7.0</td>\n",
       "      <td>NaN</td>\n",
       "      <td>NaN</td>\n",
       "    </tr>\n",
       "    <tr>\n",
       "      <th>44782</th>\n",
       "      <td>International</td>\n",
       "      <td>2020-09-17</td>\n",
       "      <td>696.0</td>\n",
       "      <td>7.0</td>\n",
       "      <td>NaN</td>\n",
       "      <td>NaN</td>\n",
       "    </tr>\n",
       "    <tr>\n",
       "      <th>44783</th>\n",
       "      <td>International</td>\n",
       "      <td>2020-09-18</td>\n",
       "      <td>696.0</td>\n",
       "      <td>7.0</td>\n",
       "      <td>NaN</td>\n",
       "      <td>NaN</td>\n",
       "    </tr>\n",
       "    <tr>\n",
       "      <th>44784</th>\n",
       "      <td>International</td>\n",
       "      <td>2020-09-19</td>\n",
       "      <td>696.0</td>\n",
       "      <td>7.0</td>\n",
       "      <td>NaN</td>\n",
       "      <td>NaN</td>\n",
       "    </tr>\n",
       "  </tbody>\n",
       "</table>\n",
       "<p>44785 rows × 6 columns</p>\n",
       "</div>"
      ],
      "text/plain": [
       "            location        date  total_cases  total_deaths  gdp_per_capita  \\\n",
       "0        Afghanistan  2019-12-31          0.0           0.0        1803.987   \n",
       "1        Afghanistan  2020-01-01          0.0           0.0        1803.987   \n",
       "2        Afghanistan  2020-01-02          0.0           0.0        1803.987   \n",
       "3        Afghanistan  2020-01-03          0.0           0.0        1803.987   \n",
       "4        Afghanistan  2020-01-04          0.0           0.0        1803.987   \n",
       "...              ...         ...          ...           ...             ...   \n",
       "44780  International  2020-09-15        696.0           7.0             NaN   \n",
       "44781  International  2020-09-16        696.0           7.0             NaN   \n",
       "44782  International  2020-09-17        696.0           7.0             NaN   \n",
       "44783  International  2020-09-18        696.0           7.0             NaN   \n",
       "44784  International  2020-09-19        696.0           7.0             NaN   \n",
       "\n",
       "       human_development_index  \n",
       "0                        0.498  \n",
       "1                        0.498  \n",
       "2                        0.498  \n",
       "3                        0.498  \n",
       "4                        0.498  \n",
       "...                        ...  \n",
       "44780                      NaN  \n",
       "44781                      NaN  \n",
       "44782                      NaN  \n",
       "44783                      NaN  \n",
       "44784                      NaN  \n",
       "\n",
       "[44785 rows x 6 columns]"
      ]
     },
     "execution_count": 43,
     "metadata": {},
     "output_type": "execute_result"
    }
   ],
   "source": [
    "df_covid"
   ]
  },
  {
   "cell_type": "markdown",
   "id": "b03f2a7c",
   "metadata": {},
   "source": [
    "### **Inspecting Data Types**\n",
    "\n",
    "Checking the **data types** of each column ensures that the dataset is ready for analysis. Observations include:  \n",
    "- `location` is an **object** (string), representing country names  \n",
    "- `date` is currently an **object**, which will need conversion to **datetime** for time-series analysis  \n",
    "- `total_cases`, `total_deaths`, `gdp_per_capita`, and `human_development_index` are **float64**, suitable for numerical computations  \n",
    "\n",
    "This step helps identify **necessary preprocessing actions**, such as converting the `date` column to datetime format.\n"
   ]
  },
  {
   "cell_type": "code",
   "execution_count": 44,
   "id": "031207e5",
   "metadata": {},
   "outputs": [
    {
     "data": {
      "text/plain": [
       "location                    object\n",
       "date                        object\n",
       "total_cases                float64\n",
       "total_deaths               float64\n",
       "gdp_per_capita             float64\n",
       "human_development_index    float64\n",
       "dtype: object"
      ]
     },
     "execution_count": 44,
     "metadata": {},
     "output_type": "execute_result"
    }
   ],
   "source": [
    "df_covid.dtypes"
   ]
  },
  {
   "cell_type": "markdown",
   "id": "d4081f98",
   "metadata": {},
   "source": [
    "### **Converting `date` to Datetime**\n",
    "\n",
    "The `date` column is converted from an object (string) to **datetime format**. This is essential for:  \n",
    "- Performing **time-series analysis**  \n",
    "- Sorting and filtering data by date  \n",
    "- Plotting trends over time accurately  \n",
    "\n",
    "Using datetime ensures that all subsequent operations on the `date` column are **efficient and reliable**.\n"
   ]
  },
  {
   "cell_type": "code",
   "execution_count": 45,
   "id": "ac94bb33",
   "metadata": {},
   "outputs": [
    {
     "name": "stderr",
     "output_type": "stream",
     "text": [
      "C:\\Users\\Mazen\\AppData\\Local\\Temp\\ipykernel_7476\\3535977279.py:1: SettingWithCopyWarning: \n",
      "A value is trying to be set on a copy of a slice from a DataFrame.\n",
      "Try using .loc[row_indexer,col_indexer] = value instead\n",
      "\n",
      "See the caveats in the documentation: https://pandas.pydata.org/pandas-docs/stable/user_guide/indexing.html#returning-a-view-versus-a-copy\n",
      "  df_covid[\"date\"] = pd.to_datetime(df_covid[\"date\"])\n"
     ]
    }
   ],
   "source": [
    "df_covid[\"date\"] = pd.to_datetime(df_covid[\"date\"])"
   ]
  },
  {
   "cell_type": "markdown",
   "id": "c98bf911",
   "metadata": {},
   "source": [
    "### **Verifying Data Type Conversion**\n",
    "\n",
    "After converting the `date` column, the DataFrame now has the following types:  \n",
    "- `location`: **object**  \n",
    "- `date`: **datetime64[ns]**  \n",
    "- `total_cases`, `total_deaths`, `gdp_per_capita`, `human_development_index`: **float64**  \n",
    "\n",
    "This confirms that the dataset is **properly formatted for time-series analysis** and numerical computations.\n"
   ]
  },
  {
   "cell_type": "code",
   "execution_count": 46,
   "id": "49a109c7",
   "metadata": {},
   "outputs": [
    {
     "data": {
      "text/plain": [
       "location                           object\n",
       "date                       datetime64[ns]\n",
       "total_cases                       float64\n",
       "total_deaths                      float64\n",
       "gdp_per_capita                    float64\n",
       "human_development_index           float64\n",
       "dtype: object"
      ]
     },
     "execution_count": 46,
     "metadata": {},
     "output_type": "execute_result"
    }
   ],
   "source": [
    "df_covid.dtypes"
   ]
  },
  {
   "cell_type": "markdown",
   "id": "afcb1122",
   "metadata": {},
   "source": [
    "### **Checking for Missing Values**\n",
    "\n",
    "Identifying missing values is crucial for **data quality** and analysis reliability. The initial inspection shows:  \n",
    "- `human_development_index`: **6,227 missing values**  \n",
    "- `gdp_per_capita`: **5,343 missing values**  \n",
    "- `total_cases` and `total_deaths`: **603 missing values each**  \n",
    "- `location` and `date`: **no missing values**  \n",
    "\n",
    "This highlights that **socio-economic indicators** have significant gaps, which will need careful handling to avoid biased analysis, while missing health outcome data may require **row removal**.\n"
   ]
  },
  {
   "cell_type": "code",
   "execution_count": 47,
   "id": "a04a63ac",
   "metadata": {},
   "outputs": [
    {
     "data": {
      "text/plain": [
       "human_development_index    6227\n",
       "gdp_per_capita             5343\n",
       "total_cases                 603\n",
       "total_deaths                603\n",
       "location                      0\n",
       "date                          0\n",
       "dtype: int64"
      ]
     },
     "execution_count": 47,
     "metadata": {},
     "output_type": "execute_result"
    }
   ],
   "source": [
    "df_covid.isnull().sum().sort_values(ascending=False)"
   ]
  },
  {
   "cell_type": "markdown",
   "id": "34639c1c",
   "metadata": {},
   "source": [
    "### **Calculating Missing Value Percentages**\n",
    "\n",
    "This function computes the **percentage of missing values** for each column, providing a clearer understanding of the dataset's completeness. By expressing missing data as a percentage rather than raw counts, we can make **better-informed decisions** on how to handle gaps—whether by **dropping rows**, **filling with a statistic**, or **imputing values** based on other logic."
   ]
  },
  {
   "cell_type": "code",
   "execution_count": 48,
   "id": "ab5db76a",
   "metadata": {},
   "outputs": [],
   "source": [
    "def null_percentage(df_covid):\n",
    "        for column in df_covid.columns:\n",
    "            percentage = df_covid[column].isnull().mean() * 100\n",
    "            print(column + \":\", str(percentage.round(2)) + \"%\")"
   ]
  },
  {
   "cell_type": "markdown",
   "id": "5ff9d889",
   "metadata": {},
   "source": [
    "### **Missing Value Overview**\n",
    "\n",
    "Applying the `null_percentage` function shows the proportion of missing data in each column:  \n",
    "- `location` and `date`: **0% missing**  \n",
    "- `total_cases` and `total_deaths`: **~1.35% missing**, relatively small but critical for analysis  \n",
    "- `gdp_per_capita`: **~11.93% missing**  \n",
    "- `human_development_index`: **~13.9% missing**  \n",
    "\n",
    "This confirms that **socio-economic indicators** have substantial gaps, which will require **imputation**, while missing case and death data may need **row removal** to maintain data integrity.\n"
   ]
  },
  {
   "cell_type": "code",
   "execution_count": 49,
   "id": "ed6e0c74",
   "metadata": {},
   "outputs": [
    {
     "name": "stdout",
     "output_type": "stream",
     "text": [
      "location: 0.0%\n",
      "date: 0.0%\n",
      "total_cases: 1.35%\n",
      "total_deaths: 1.35%\n",
      "gdp_per_capita: 11.93%\n",
      "human_development_index: 13.9%\n"
     ]
    }
   ],
   "source": [
    "null_percentage(df_covid)"
   ]
  },
  {
   "cell_type": "markdown",
   "id": "44d4f9a6",
   "metadata": {},
   "source": [
    "### **Handling Missing Values in Critical Columns**\n",
    "\n",
    "Rows with missing `total_cases` or `total_deaths` are dropped because these are **key metrics** for analyzing COVID-19 impact. Removing these rows ensures that subsequent calculations, visualizations, and insights are based on **complete and reliable health outcome data**.\n"
   ]
  },
  {
   "cell_type": "code",
   "execution_count": 50,
   "id": "e3a6cddf",
   "metadata": {},
   "outputs": [],
   "source": [
    "df_covid = df_covid.dropna(subset=[\"total_cases\", \"total_deaths\"])"
   ]
  },
  {
   "cell_type": "markdown",
   "id": "c49c1b7f",
   "metadata": {},
   "source": [
    "### **Post-Cleaning Missing Value Check**\n",
    "\n",
    "After dropping rows with missing case or death data:  \n",
    "- `total_cases` and `total_deaths` now have **0% missing values**, ensuring reliable analysis for COVID-19 outcomes.  \n",
    "- Missing percentages for `gdp_per_capita` (~12%) and `human_development_index` (~14%) remain, indicating that **socio-economic data still requires imputation** before further analysis.  \n",
    "\n",
    "This step confirms that the dataset is **clean for core health metrics** while highlighting where additional handling is needed."
   ]
  },
  {
   "cell_type": "code",
   "execution_count": 51,
   "id": "f6d0f7ac",
   "metadata": {},
   "outputs": [
    {
     "name": "stdout",
     "output_type": "stream",
     "text": [
      "location: 0.0%\n",
      "date: 0.0%\n",
      "total_cases: 0.0%\n",
      "total_deaths: 0.0%\n",
      "gdp_per_capita: 12.03%\n",
      "human_development_index: 13.99%\n"
     ]
    }
   ],
   "source": [
    "null_percentage(df_covid)"
   ]
  },
  {
   "cell_type": "markdown",
   "id": "8e6b605b",
   "metadata": {},
   "source": [
    "### **Imputing Socio-Economic Missing Values**\n",
    "\n",
    "Missing values in `gdp_per_capita` and `human_development_index` are filled using their **mode** (most frequent value). This approach:  \n",
    "- Maintains the **overall distribution** of the dataset  \n",
    "- Prevents loss of rows due to missing socio-economic data  \n",
    "- Ensures that subsequent **correlation and trend analyses** are not affected by null values  \n",
    "\n",
    "Using mode imputation is a simple yet effective strategy for **categorical-like or skewed numerical variables** where median or mean may not be ideal.\n"
   ]
  },
  {
   "cell_type": "code",
   "execution_count": 52,
   "id": "6c5fbeef",
   "metadata": {},
   "outputs": [
    {
     "name": "stderr",
     "output_type": "stream",
     "text": [
      "C:\\Users\\Mazen\\AppData\\Local\\Temp\\ipykernel_7476\\3618940639.py:3: SettingWithCopyWarning: \n",
      "A value is trying to be set on a copy of a slice from a DataFrame\n",
      "\n",
      "See the caveats in the documentation: https://pandas.pydata.org/pandas-docs/stable/user_guide/indexing.html#returning-a-view-versus-a-copy\n",
      "  df_covid.fillna({\"gdp_per_capita\": mode}, inplace=True)\n",
      "C:\\Users\\Mazen\\AppData\\Local\\Temp\\ipykernel_7476\\3618940639.py:7: SettingWithCopyWarning: \n",
      "A value is trying to be set on a copy of a slice from a DataFrame\n",
      "\n",
      "See the caveats in the documentation: https://pandas.pydata.org/pandas-docs/stable/user_guide/indexing.html#returning-a-view-versus-a-copy\n",
      "  df_covid.fillna({\"human_development_index\": mode}, inplace=True)\n"
     ]
    }
   ],
   "source": [
    "mode = df_covid[\"gdp_per_capita\"].mode()[0]\n",
    "\n",
    "df_covid.fillna({\"gdp_per_capita\": mode}, inplace=True)\n",
    "\n",
    "mode = df_covid[\"human_development_index\"].mode()[0]\n",
    "\n",
    "df_covid.fillna({\"human_development_index\": mode}, inplace=True)"
   ]
  },
  {
   "cell_type": "markdown",
   "id": "f49c353b",
   "metadata": {},
   "source": [
    "### **Final Check for Missing Values**\n",
    "\n",
    "After imputing missing socio-economic data, all columns now have **0% missing values**. The dataset is fully complete, making it **ready for exploratory data analysis and visualization** without concerns about null-related errors or biases.\n"
   ]
  },
  {
   "cell_type": "code",
   "execution_count": 53,
   "id": "64f5ea71",
   "metadata": {},
   "outputs": [
    {
     "name": "stdout",
     "output_type": "stream",
     "text": [
      "location: 0.0%\n",
      "date: 0.0%\n",
      "total_cases: 0.0%\n",
      "total_deaths: 0.0%\n",
      "gdp_per_capita: 0.0%\n",
      "human_development_index: 0.0%\n"
     ]
    }
   ],
   "source": [
    "null_percentage(df_covid)"
   ]
  },
  {
   "cell_type": "markdown",
   "id": "c21df505",
   "metadata": {},
   "source": [
    "### **Checking for Duplicates**\n",
    "\n",
    "The dataset is checked for **duplicated rows**, which could distort analysis or visualizations. No duplicates are found, confirming that each row represents a **unique country-date record**, ensuring data integrity for subsequent analysis."
   ]
  },
  {
   "cell_type": "code",
   "execution_count": 54,
   "id": "0fae71b7",
   "metadata": {},
   "outputs": [
    {
     "data": {
      "text/html": [
       "<div>\n",
       "<style scoped>\n",
       "    .dataframe tbody tr th:only-of-type {\n",
       "        vertical-align: middle;\n",
       "    }\n",
       "\n",
       "    .dataframe tbody tr th {\n",
       "        vertical-align: top;\n",
       "    }\n",
       "\n",
       "    .dataframe thead th {\n",
       "        text-align: right;\n",
       "    }\n",
       "</style>\n",
       "<table border=\"1\" class=\"dataframe\">\n",
       "  <thead>\n",
       "    <tr style=\"text-align: right;\">\n",
       "      <th></th>\n",
       "      <th>location</th>\n",
       "      <th>date</th>\n",
       "      <th>total_cases</th>\n",
       "      <th>total_deaths</th>\n",
       "      <th>gdp_per_capita</th>\n",
       "      <th>human_development_index</th>\n",
       "    </tr>\n",
       "  </thead>\n",
       "  <tbody>\n",
       "  </tbody>\n",
       "</table>\n",
       "</div>"
      ],
      "text/plain": [
       "Empty DataFrame\n",
       "Columns: [location, date, total_cases, total_deaths, gdp_per_capita, human_development_index]\n",
       "Index: []"
      ]
     },
     "execution_count": 54,
     "metadata": {},
     "output_type": "execute_result"
    }
   ],
   "source": [
    "df_covid[df_covid.duplicated()] # No duplicated values"
   ]
  },
  {
   "cell_type": "markdown",
   "id": "67fd8bb9",
   "metadata": {},
   "source": [
    "### **Renaming Columns for Readability**\n",
    "\n",
    "Column names are reformatted to be **cleaner and more readable** by:  \n",
    "- Replacing underscores `_` with spaces  \n",
    "- Converting to **Title Case**  \n",
    "\n",
    "This improves **clarity in visualizations, tables, and reports**, making the dataset easier to interpret and present in the portfolio. The final columns are:  \n",
    "- `Location`  \n",
    "- `Date`  \n",
    "- `Total Cases`  \n",
    "- `Total Deaths`  \n",
    "- `Gdp Per Capita`  \n",
    "- `Human Development Index`"
   ]
  },
  {
   "cell_type": "code",
   "execution_count": 55,
   "id": "41fe95a0",
   "metadata": {},
   "outputs": [
    {
     "data": {
      "text/plain": [
       "Index(['Location', 'Date', 'Total Cases', 'Total Deaths', 'Gdp Per Capita',\n",
       "       'Human Development Index'],\n",
       "      dtype='object')"
      ]
     },
     "execution_count": 55,
     "metadata": {},
     "output_type": "execute_result"
    }
   ],
   "source": [
    "df_covid.columns = df_covid.columns.str.replace(\"_\", \" \")\n",
    "df_covid.columns = df_covid.columns.str.title()\n",
    "df_covid.columns"
   ]
  },
  {
   "cell_type": "markdown",
   "id": "b1d350dc",
   "metadata": {},
   "source": [
    "### **Previewing the Cleaned Dataset**\n",
    "\n",
    "Displaying the cleaned DataFrame provides a **snapshot of the dataset after preprocessing**. Key observations:  \n",
    "- The dataset contains **44,182 rows and 6 columns**  \n",
    "- Columns are **clean, readable, and ready for analysis**  \n",
    "- Missing values have been handled, and there are **no duplicates**  \n",
    "- Aggregate rows like \"International\" are still present, which can be **filtered if country-specific analysis** is required  \n",
    "\n",
    "This confirms that the dataset is **well-prepared for exploratory data analysis and visualization**.\n"
   ]
  },
  {
   "cell_type": "code",
   "execution_count": 56,
   "id": "c2504ea9",
   "metadata": {},
   "outputs": [
    {
     "data": {
      "text/html": [
       "<div>\n",
       "<style scoped>\n",
       "    .dataframe tbody tr th:only-of-type {\n",
       "        vertical-align: middle;\n",
       "    }\n",
       "\n",
       "    .dataframe tbody tr th {\n",
       "        vertical-align: top;\n",
       "    }\n",
       "\n",
       "    .dataframe thead th {\n",
       "        text-align: right;\n",
       "    }\n",
       "</style>\n",
       "<table border=\"1\" class=\"dataframe\">\n",
       "  <thead>\n",
       "    <tr style=\"text-align: right;\">\n",
       "      <th></th>\n",
       "      <th>Location</th>\n",
       "      <th>Date</th>\n",
       "      <th>Total Cases</th>\n",
       "      <th>Total Deaths</th>\n",
       "      <th>Gdp Per Capita</th>\n",
       "      <th>Human Development Index</th>\n",
       "    </tr>\n",
       "  </thead>\n",
       "  <tbody>\n",
       "    <tr>\n",
       "      <th>0</th>\n",
       "      <td>Afghanistan</td>\n",
       "      <td>2019-12-31</td>\n",
       "      <td>0.0</td>\n",
       "      <td>0.0</td>\n",
       "      <td>1803.987</td>\n",
       "      <td>0.498</td>\n",
       "    </tr>\n",
       "    <tr>\n",
       "      <th>1</th>\n",
       "      <td>Afghanistan</td>\n",
       "      <td>2020-01-01</td>\n",
       "      <td>0.0</td>\n",
       "      <td>0.0</td>\n",
       "      <td>1803.987</td>\n",
       "      <td>0.498</td>\n",
       "    </tr>\n",
       "    <tr>\n",
       "      <th>2</th>\n",
       "      <td>Afghanistan</td>\n",
       "      <td>2020-01-02</td>\n",
       "      <td>0.0</td>\n",
       "      <td>0.0</td>\n",
       "      <td>1803.987</td>\n",
       "      <td>0.498</td>\n",
       "    </tr>\n",
       "    <tr>\n",
       "      <th>3</th>\n",
       "      <td>Afghanistan</td>\n",
       "      <td>2020-01-03</td>\n",
       "      <td>0.0</td>\n",
       "      <td>0.0</td>\n",
       "      <td>1803.987</td>\n",
       "      <td>0.498</td>\n",
       "    </tr>\n",
       "    <tr>\n",
       "      <th>4</th>\n",
       "      <td>Afghanistan</td>\n",
       "      <td>2020-01-04</td>\n",
       "      <td>0.0</td>\n",
       "      <td>0.0</td>\n",
       "      <td>1803.987</td>\n",
       "      <td>0.498</td>\n",
       "    </tr>\n",
       "    <tr>\n",
       "      <th>...</th>\n",
       "      <td>...</td>\n",
       "      <td>...</td>\n",
       "      <td>...</td>\n",
       "      <td>...</td>\n",
       "      <td>...</td>\n",
       "      <td>...</td>\n",
       "    </tr>\n",
       "    <tr>\n",
       "      <th>44780</th>\n",
       "      <td>International</td>\n",
       "      <td>2020-09-15</td>\n",
       "      <td>696.0</td>\n",
       "      <td>7.0</td>\n",
       "      <td>14103.452</td>\n",
       "      <td>0.757</td>\n",
       "    </tr>\n",
       "    <tr>\n",
       "      <th>44781</th>\n",
       "      <td>International</td>\n",
       "      <td>2020-09-16</td>\n",
       "      <td>696.0</td>\n",
       "      <td>7.0</td>\n",
       "      <td>14103.452</td>\n",
       "      <td>0.757</td>\n",
       "    </tr>\n",
       "    <tr>\n",
       "      <th>44782</th>\n",
       "      <td>International</td>\n",
       "      <td>2020-09-17</td>\n",
       "      <td>696.0</td>\n",
       "      <td>7.0</td>\n",
       "      <td>14103.452</td>\n",
       "      <td>0.757</td>\n",
       "    </tr>\n",
       "    <tr>\n",
       "      <th>44783</th>\n",
       "      <td>International</td>\n",
       "      <td>2020-09-18</td>\n",
       "      <td>696.0</td>\n",
       "      <td>7.0</td>\n",
       "      <td>14103.452</td>\n",
       "      <td>0.757</td>\n",
       "    </tr>\n",
       "    <tr>\n",
       "      <th>44784</th>\n",
       "      <td>International</td>\n",
       "      <td>2020-09-19</td>\n",
       "      <td>696.0</td>\n",
       "      <td>7.0</td>\n",
       "      <td>14103.452</td>\n",
       "      <td>0.757</td>\n",
       "    </tr>\n",
       "  </tbody>\n",
       "</table>\n",
       "<p>44182 rows × 6 columns</p>\n",
       "</div>"
      ],
      "text/plain": [
       "            Location       Date  Total Cases  Total Deaths  Gdp Per Capita  \\\n",
       "0        Afghanistan 2019-12-31          0.0           0.0        1803.987   \n",
       "1        Afghanistan 2020-01-01          0.0           0.0        1803.987   \n",
       "2        Afghanistan 2020-01-02          0.0           0.0        1803.987   \n",
       "3        Afghanistan 2020-01-03          0.0           0.0        1803.987   \n",
       "4        Afghanistan 2020-01-04          0.0           0.0        1803.987   \n",
       "...              ...        ...          ...           ...             ...   \n",
       "44780  International 2020-09-15        696.0           7.0       14103.452   \n",
       "44781  International 2020-09-16        696.0           7.0       14103.452   \n",
       "44782  International 2020-09-17        696.0           7.0       14103.452   \n",
       "44783  International 2020-09-18        696.0           7.0       14103.452   \n",
       "44784  International 2020-09-19        696.0           7.0       14103.452   \n",
       "\n",
       "       Human Development Index  \n",
       "0                        0.498  \n",
       "1                        0.498  \n",
       "2                        0.498  \n",
       "3                        0.498  \n",
       "4                        0.498  \n",
       "...                        ...  \n",
       "44780                    0.757  \n",
       "44781                    0.757  \n",
       "44782                    0.757  \n",
       "44783                    0.757  \n",
       "44784                    0.757  \n",
       "\n",
       "[44182 rows x 6 columns]"
      ]
     },
     "execution_count": 56,
     "metadata": {},
     "output_type": "execute_result"
    }
   ],
   "source": [
    "df_covid"
   ]
  },
  {
   "cell_type": "markdown",
   "id": "96b5c0c4",
   "metadata": {},
   "source": [
    "### **Calculating Case Fatality Rate (CFR) for All Countries**\n",
    "\n",
    "Here, we calculate the **Case Fatality Rate (CFR)** for each country\n",
    "\n",
    "Steps:\n",
    "1. `df_latest` is created by taking the **most recent record** for each country (`groupby(\"Location\").last()`), ensuring that we use **up-to-date cumulative data**.\n",
    "2. The CFR is calculated for each country and stored in a new column `\"CFR %\"`.\n",
    "3. Values are rounded to **two decimal places** for easier readability.\n",
    "\n",
    "**Purpose & Insights:**\n",
    "- CFR provides a **proportional measure of mortality relative to confirmed cases**, which is more informative than just looking at total deaths.\n",
    "- High CFR indicates **higher risk of death among detected cases**, often reflecting **healthcare system capacity, population vulnerability, and testing/reporting accuracy**.\n",
    "- Comparing CFR across countries allows us to **identify regions with particularly severe outcomes**, beyond just raw case counts.\n"
   ]
  },
  {
   "cell_type": "code",
   "execution_count": 57,
   "id": "86ff4b1b",
   "metadata": {},
   "outputs": [],
   "source": [
    "df_latest = df_covid.sort_values(\"Date\").groupby(\"Location\").last()"
   ]
  },
  {
   "cell_type": "code",
   "execution_count": 58,
   "id": "8c3c92aa",
   "metadata": {},
   "outputs": [],
   "source": [
    "df_latest[\"CFR %\"] = ((df_latest[\"Total Deaths\"] / df_latest[\"Total Cases\"]) * 100).round(2)"
   ]
  },
  {
   "cell_type": "code",
   "execution_count": 59,
   "id": "88d84c37",
   "metadata": {},
   "outputs": [
    {
     "data": {
      "text/html": [
       "<div>\n",
       "<style scoped>\n",
       "    .dataframe tbody tr th:only-of-type {\n",
       "        vertical-align: middle;\n",
       "    }\n",
       "\n",
       "    .dataframe tbody tr th {\n",
       "        vertical-align: top;\n",
       "    }\n",
       "\n",
       "    .dataframe thead th {\n",
       "        text-align: right;\n",
       "    }\n",
       "</style>\n",
       "<table border=\"1\" class=\"dataframe\">\n",
       "  <thead>\n",
       "    <tr style=\"text-align: right;\">\n",
       "      <th></th>\n",
       "      <th>Date</th>\n",
       "      <th>Total Cases</th>\n",
       "      <th>Total Deaths</th>\n",
       "      <th>Gdp Per Capita</th>\n",
       "      <th>Human Development Index</th>\n",
       "      <th>CFR %</th>\n",
       "    </tr>\n",
       "    <tr>\n",
       "      <th>Location</th>\n",
       "      <th></th>\n",
       "      <th></th>\n",
       "      <th></th>\n",
       "      <th></th>\n",
       "      <th></th>\n",
       "      <th></th>\n",
       "    </tr>\n",
       "  </thead>\n",
       "  <tbody>\n",
       "    <tr>\n",
       "      <th>Afghanistan</th>\n",
       "      <td>2020-09-19</td>\n",
       "      <td>38919.0</td>\n",
       "      <td>1437.0</td>\n",
       "      <td>1803.987</td>\n",
       "      <td>0.498</td>\n",
       "      <td>3.69</td>\n",
       "    </tr>\n",
       "    <tr>\n",
       "      <th>Albania</th>\n",
       "      <td>2020-09-19</td>\n",
       "      <td>12073.0</td>\n",
       "      <td>353.0</td>\n",
       "      <td>11803.431</td>\n",
       "      <td>0.785</td>\n",
       "      <td>2.92</td>\n",
       "    </tr>\n",
       "    <tr>\n",
       "      <th>Algeria</th>\n",
       "      <td>2020-09-19</td>\n",
       "      <td>49413.0</td>\n",
       "      <td>1659.0</td>\n",
       "      <td>13913.839</td>\n",
       "      <td>0.754</td>\n",
       "      <td>3.36</td>\n",
       "    </tr>\n",
       "    <tr>\n",
       "      <th>Andorra</th>\n",
       "      <td>2020-09-19</td>\n",
       "      <td>1564.0</td>\n",
       "      <td>53.0</td>\n",
       "      <td>14103.452</td>\n",
       "      <td>0.858</td>\n",
       "      <td>3.39</td>\n",
       "    </tr>\n",
       "    <tr>\n",
       "      <th>Angola</th>\n",
       "      <td>2020-09-19</td>\n",
       "      <td>3789.0</td>\n",
       "      <td>144.0</td>\n",
       "      <td>5819.495</td>\n",
       "      <td>0.581</td>\n",
       "      <td>3.80</td>\n",
       "    </tr>\n",
       "    <tr>\n",
       "      <th>...</th>\n",
       "      <td>...</td>\n",
       "      <td>...</td>\n",
       "      <td>...</td>\n",
       "      <td>...</td>\n",
       "      <td>...</td>\n",
       "      <td>...</td>\n",
       "    </tr>\n",
       "    <tr>\n",
       "      <th>Western Sahara</th>\n",
       "      <td>2020-09-19</td>\n",
       "      <td>766.0</td>\n",
       "      <td>1.0</td>\n",
       "      <td>14103.452</td>\n",
       "      <td>0.757</td>\n",
       "      <td>0.13</td>\n",
       "    </tr>\n",
       "    <tr>\n",
       "      <th>World</th>\n",
       "      <td>2020-09-19</td>\n",
       "      <td>30540446.0</td>\n",
       "      <td>952724.0</td>\n",
       "      <td>15469.207</td>\n",
       "      <td>0.757</td>\n",
       "      <td>3.12</td>\n",
       "    </tr>\n",
       "    <tr>\n",
       "      <th>Yemen</th>\n",
       "      <td>2020-09-19</td>\n",
       "      <td>2024.0</td>\n",
       "      <td>585.0</td>\n",
       "      <td>1479.147</td>\n",
       "      <td>0.452</td>\n",
       "      <td>28.90</td>\n",
       "    </tr>\n",
       "    <tr>\n",
       "      <th>Zambia</th>\n",
       "      <td>2020-09-19</td>\n",
       "      <td>14022.0</td>\n",
       "      <td>329.0</td>\n",
       "      <td>3689.251</td>\n",
       "      <td>0.588</td>\n",
       "      <td>2.35</td>\n",
       "    </tr>\n",
       "    <tr>\n",
       "      <th>Zimbabwe</th>\n",
       "      <td>2020-09-19</td>\n",
       "      <td>7647.0</td>\n",
       "      <td>224.0</td>\n",
       "      <td>1899.775</td>\n",
       "      <td>0.535</td>\n",
       "      <td>2.93</td>\n",
       "    </tr>\n",
       "  </tbody>\n",
       "</table>\n",
       "<p>211 rows × 6 columns</p>\n",
       "</div>"
      ],
      "text/plain": [
       "                     Date  Total Cases  Total Deaths  Gdp Per Capita  \\\n",
       "Location                                                               \n",
       "Afghanistan    2020-09-19      38919.0        1437.0        1803.987   \n",
       "Albania        2020-09-19      12073.0         353.0       11803.431   \n",
       "Algeria        2020-09-19      49413.0        1659.0       13913.839   \n",
       "Andorra        2020-09-19       1564.0          53.0       14103.452   \n",
       "Angola         2020-09-19       3789.0         144.0        5819.495   \n",
       "...                   ...          ...           ...             ...   \n",
       "Western Sahara 2020-09-19        766.0           1.0       14103.452   \n",
       "World          2020-09-19   30540446.0      952724.0       15469.207   \n",
       "Yemen          2020-09-19       2024.0         585.0        1479.147   \n",
       "Zambia         2020-09-19      14022.0         329.0        3689.251   \n",
       "Zimbabwe       2020-09-19       7647.0         224.0        1899.775   \n",
       "\n",
       "                Human Development Index  CFR %  \n",
       "Location                                        \n",
       "Afghanistan                       0.498   3.69  \n",
       "Albania                           0.785   2.92  \n",
       "Algeria                           0.754   3.36  \n",
       "Andorra                           0.858   3.39  \n",
       "Angola                            0.581   3.80  \n",
       "...                                 ...    ...  \n",
       "Western Sahara                    0.757   0.13  \n",
       "World                             0.757   3.12  \n",
       "Yemen                             0.452  28.90  \n",
       "Zambia                            0.588   2.35  \n",
       "Zimbabwe                          0.535   2.93  \n",
       "\n",
       "[211 rows x 6 columns]"
      ]
     },
     "execution_count": 59,
     "metadata": {},
     "output_type": "execute_result"
    }
   ],
   "source": [
    "df_latest"
   ]
  },
  {
   "cell_type": "markdown",
   "id": "611f5c50",
   "metadata": {},
   "source": [
    "### **Top 10 Countries by COVID-19 Case Fatality Rate (CFR %) and Comparison with Global Average**\n",
    "\n",
    "This analysis identifies the **top 10 countries with the highest CFR %**, providing insight into where COVID-19 was **most deadly relative to reported cases**.\n",
    "\n",
    "**Key Observations:**\n",
    "- **Yemen** has the highest CFR at **28.90%**, which is **over 11 times higher** than the global average CFR of **2.55%**.  \n",
    "- Other countries in the top 10, including **Italy (12.09%)**, **United Kingdom (10.81%)**, and **Mexico (10.57%)**, also significantly exceed the global average.  \n",
    "- Countries like **France (7.29%)** and **Isle of Man (7.08%)** still show elevated CFRs compared to the world mean.  \n",
    "\n",
    "**Insights:**\n",
    "- A high CFR indicates a **higher proportion of deaths among confirmed cases**, which may result from:\n",
    "  - **Healthcare system limitations or overload**  \n",
    "  - **Delayed detection or limited testing**, causing milder cases to be underreported  \n",
    "  - **Population vulnerability**, e.g., older populations or comorbidities  \n",
    "  - **Data accuracy and reporting practices**  \n",
    "\n",
    "- Comparing top CFRs with the **global average (2.55%)** highlights stark **regional disparities in pandemic impact**, emphasizing that some countries suffered disproportionately high mortality even with relatively fewer cases.\n",
    "\n",
    "**Conclusion:**\n",
    "- While total case counts show **where infections were widespread**, CFR provides complementary insight into **severity and mortality risk**.  \n",
    "- Countries in the top 10 CFR list require particular attention in terms of **public health response, resource allocation, and historical analysis of healthcare outcomes** during the pandemic."
   ]
  },
  {
   "cell_type": "code",
   "execution_count": 60,
   "id": "b110127f",
   "metadata": {},
   "outputs": [
    {
     "data": {
      "text/html": [
       "<div>\n",
       "<style scoped>\n",
       "    .dataframe tbody tr th:only-of-type {\n",
       "        vertical-align: middle;\n",
       "    }\n",
       "\n",
       "    .dataframe tbody tr th {\n",
       "        vertical-align: top;\n",
       "    }\n",
       "\n",
       "    .dataframe thead th {\n",
       "        text-align: right;\n",
       "    }\n",
       "</style>\n",
       "<table border=\"1\" class=\"dataframe\">\n",
       "  <thead>\n",
       "    <tr style=\"text-align: right;\">\n",
       "      <th></th>\n",
       "      <th>Total Cases</th>\n",
       "      <th>Total Deaths</th>\n",
       "      <th>CFR %</th>\n",
       "    </tr>\n",
       "    <tr>\n",
       "      <th>Location</th>\n",
       "      <th></th>\n",
       "      <th></th>\n",
       "      <th></th>\n",
       "    </tr>\n",
       "  </thead>\n",
       "  <tbody>\n",
       "    <tr>\n",
       "      <th>Yemen</th>\n",
       "      <td>2024.0</td>\n",
       "      <td>585.0</td>\n",
       "      <td>28.90</td>\n",
       "    </tr>\n",
       "    <tr>\n",
       "      <th>Italy</th>\n",
       "      <td>294932.0</td>\n",
       "      <td>35668.0</td>\n",
       "      <td>12.09</td>\n",
       "    </tr>\n",
       "    <tr>\n",
       "      <th>United Kingdom</th>\n",
       "      <td>385936.0</td>\n",
       "      <td>41732.0</td>\n",
       "      <td>10.81</td>\n",
       "    </tr>\n",
       "    <tr>\n",
       "      <th>Mexico</th>\n",
       "      <td>688954.0</td>\n",
       "      <td>72803.0</td>\n",
       "      <td>10.57</td>\n",
       "    </tr>\n",
       "    <tr>\n",
       "      <th>Belgium</th>\n",
       "      <td>99555.0</td>\n",
       "      <td>9937.0</td>\n",
       "      <td>9.98</td>\n",
       "    </tr>\n",
       "    <tr>\n",
       "      <th>Ecuador</th>\n",
       "      <td>124129.0</td>\n",
       "      <td>11044.0</td>\n",
       "      <td>8.90</td>\n",
       "    </tr>\n",
       "    <tr>\n",
       "      <th>Jersey</th>\n",
       "      <td>393.0</td>\n",
       "      <td>32.0</td>\n",
       "      <td>8.14</td>\n",
       "    </tr>\n",
       "    <tr>\n",
       "      <th>Montserrat</th>\n",
       "      <td>13.0</td>\n",
       "      <td>1.0</td>\n",
       "      <td>7.69</td>\n",
       "    </tr>\n",
       "    <tr>\n",
       "      <th>France</th>\n",
       "      <td>428696.0</td>\n",
       "      <td>31249.0</td>\n",
       "      <td>7.29</td>\n",
       "    </tr>\n",
       "    <tr>\n",
       "      <th>Isle of Man</th>\n",
       "      <td>339.0</td>\n",
       "      <td>24.0</td>\n",
       "      <td>7.08</td>\n",
       "    </tr>\n",
       "  </tbody>\n",
       "</table>\n",
       "</div>"
      ],
      "text/plain": [
       "                Total Cases  Total Deaths  CFR %\n",
       "Location                                        \n",
       "Yemen                2024.0         585.0  28.90\n",
       "Italy              294932.0       35668.0  12.09\n",
       "United Kingdom     385936.0       41732.0  10.81\n",
       "Mexico             688954.0       72803.0  10.57\n",
       "Belgium             99555.0        9937.0   9.98\n",
       "Ecuador            124129.0       11044.0   8.90\n",
       "Jersey                393.0          32.0   8.14\n",
       "Montserrat             13.0           1.0   7.69\n",
       "France             428696.0       31249.0   7.29\n",
       "Isle of Man           339.0          24.0   7.08"
      ]
     },
     "execution_count": 60,
     "metadata": {},
     "output_type": "execute_result"
    }
   ],
   "source": [
    "df_cfr = df_latest[[\"Total Cases\", \"Total Deaths\", \"CFR %\"]].sort_values(by=\"CFR %\", ascending=False).head(10)\n",
    "df_cfr"
   ]
  },
  {
   "cell_type": "code",
   "execution_count": 61,
   "id": "8345d665",
   "metadata": {},
   "outputs": [
    {
     "name": "stdout",
     "output_type": "stream",
     "text": [
      "Global Average CFR: 2.55 %\n"
     ]
    }
   ],
   "source": [
    "global_cfr_avg = df_latest[\"CFR %\"].mean().round(2)\n",
    "print(\"Global Average CFR:\", global_cfr_avg, \"%\") # Global Average CFR: 2.55 %"
   ]
  },
  {
   "cell_type": "markdown",
   "id": "fe28ef53",
   "metadata": {},
   "source": [
    "---"
   ]
  },
  {
   "cell_type": "markdown",
   "id": "dc4bbdb0",
   "metadata": {},
   "source": [
    "### **Exploratory Data Analysis**\n",
    "\n",
    "With the dataset now **cleaned and structured**, we can explore patterns and trends through **visualizations**. This section focuses on:  \n",
    "- **Time-series analysis** of COVID-19 cases and deaths  \n",
    "- **Comparisons across countries**  \n",
    "- **Correlation between socio-economic indicators** and pandemic outcomes  \n",
    "\n",
    "The goal is to uncover **insights that reveal how COVID-19 spread and its impact varied globally**."
   ]
  },
  {
   "cell_type": "markdown",
   "id": "b7993b4c",
   "metadata": {},
   "source": [
    "### **COVID-19 Cases and Deaths in Poland (March – September 2020)**\n",
    "\n",
    "The time-series visualization of Poland’s COVID-19 trajectory between **March 4, 2020, and September 19, 2020** reveals several important patterns:\n",
    "\n",
    "- **Early Stage (March 4 – mid-March 2020):**  \n",
    "  - The first confirmed case appeared on **March 4, 2020**, with only **1 infection**.  \n",
    "  - Cases grew gradually through early March, surpassing **100 cases by March 15**, while deaths remained very low, with only isolated fatalities.\n",
    "\n",
    "- **Acceleration Phase (late March – April 2020):**  \n",
    "  - A sharp rise in cases began around **mid-to-late March**, crossing **1,000 cases by March 26** and **10,000 by late April**.  \n",
    "  - Deaths also increased, though at a slower pace, reaching **over 400 by late April**.  \n",
    "  - This widening gap between cases and deaths suggests that although the virus spread rapidly, the case-fatality rate remained relatively controlled.\n",
    "\n",
    "- **Steady Growth (May – July 2020):**  \n",
    "  - Poland experienced **consistent but moderate daily increases**, with cumulative cases rising steadily from **~20,000 in late May** to **~40,000 by late July**.  \n",
    "  - Deaths followed a similar gradual trend, reaching **~1,600 by late July**, showing stability in mortality despite the rising infections.\n",
    "\n",
    "- **Renewed Surge (August – September 2020):**  \n",
    "  - From August onwards, cases climbed more quickly, surpassing **70,000 infections by early September**.  \n",
    "  - Deaths continued increasing but at a slower rate, with totals around **2,200 by mid-September**, indicating that while transmission accelerated, mortality growth was less steep.\n",
    "\n",
    "### **Key Insights**\n",
    "- Poland’s first wave was **delayed and moderate compared to Western Europe**, with slower initial growth.  \n",
    "- The gap between cases and deaths widened over time, pointing to **relatively effective healthcare response or demographic factors (younger population, fewer comorbidities)**.  \n",
    "- By September 2020, the data clearly showed the **onset of a second surge**, foreshadowing a more challenging phase of the pandemic.  \n",
    "- The country’s trajectory highlights how **early containment delayed the crisis**, but sustained spread eventually caught up, similar to patterns in other Central and Eastern European nations."
   ]
  },
  {
   "cell_type": "code",
   "execution_count": 62,
   "id": "c0c2bea6",
   "metadata": {},
   "outputs": [
    {
     "data": {
      "text/plain": [
       "<matplotlib.legend.Legend at 0x1bd089c8b90>"
      ]
     },
     "execution_count": 62,
     "metadata": {},
     "output_type": "execute_result"
    },
    {
     "data": {
      "image/png": "[encoded data removed]",
      "text/plain": [
       "<Figure size 1200x600 with 1 Axes>"
      ]
     },
     "metadata": {},
     "output_type": "display_data"
    }
   ],
   "source": [
    "df_country = df_covid[df_covid[\"Location\"] == \"Poland\"].sort_values(\"Date\")\n",
    "\n",
    "ax = df_country.set_index(\"Date\")[\"Total Cases\"].plot(kind=\"line\", figsize=(12,6),\n",
    "                                                      ylabel=\"Count\", label=\"Total Cases\",\n",
    "                                                      title=\"COVID-19 Cases & Deaths in Poland\")\n",
    "\n",
    "df_country.set_index(\"Date\")[\"Total Deaths\"].plot(kind=\"line\", label=\"Total Deaths\", ax=ax)\n",
    "\n",
    "ax.legend()"
   ]
  },
  {
   "cell_type": "markdown",
   "id": "ff57d736",
   "metadata": {},
   "source": [
    "### **COVID-19 in Italy: Cases and Deaths Over Time**\n",
    "\n",
    "This line chart illustrates the trajectory of **total COVID-19 cases and deaths in Italy** from late January to September 2020. Key observations include:\n",
    "\n",
    "- **Initial Outbreak:**  \n",
    "  Italy reported its first cases on **January 31, 2020**. For nearly three weeks, case numbers remained minimal (3 cases), reflecting the initial containment period.\n",
    "\n",
    "- **Rapid Surge (Late February – March 2020):**  \n",
    "  From **February 22**, cases began to rise sharply:  \n",
    "  - 17 cases (Feb 22) → 1,128 cases (Mar 1) → 124,632 cases (Apr 5).  \n",
    "  - Deaths followed closely, from **2 deaths on Feb 23** to over **10,000 deaths by March 29**.  \n",
    "  This highlights how quickly Italy became one of the global epicenters of the pandemic.\n",
    "\n",
    "- **Peak and Plateau (March – May 2020):**  \n",
    "  - Cases and deaths climbed steeply until early April.  \n",
    "  - After April, growth slowed, suggesting that lockdowns and interventions were effective.  \n",
    "  - By May, the curve flattened significantly, with total deaths exceeding **30,000** and cases above **220,000**.\n",
    "\n",
    "- **Stabilization (June – August 2020):**  \n",
    "  - Both case and death curves grew at a much slower pace.  \n",
    "  - Deaths plateaued around **35,000**, while total cases rose gradually, reflecting ongoing but reduced transmission.\n",
    "\n",
    "- **Resurgence Signs (August – September 2020):**  \n",
    "  - Cases began to rise again in late summer (over **290,000 cases by mid-September**).  \n",
    "  - Deaths increased only slightly, suggesting **better medical preparedness and possibly younger demographics in new infections** compared to the first wave.\n",
    "\n",
    "**Overall Insight:**  \n",
    "Italy experienced a **devastating first wave**, with explosive case growth and high mortality by March–April 2020. Strict measures helped flatten the curve, but the data also shows **early signs of a second wave** by September, though with relatively lower fatality growth at that stage."
   ]
  },
  {
   "cell_type": "code",
   "execution_count": 63,
   "id": "c04ae846",
   "metadata": {},
   "outputs": [
    {
     "data": {
      "text/plain": [
       "<matplotlib.legend.Legend at 0x1bd0b14df90>"
      ]
     },
     "execution_count": 63,
     "metadata": {},
     "output_type": "execute_result"
    },
    {
     "data": {
      "image/png": "[encoded data removed]",
      "text/plain": [
       "<Figure size 1200x600 with 1 Axes>"
      ]
     },
     "metadata": {},
     "output_type": "display_data"
    }
   ],
   "source": [
    "df_country = df_covid[df_covid[\"Location\"] == \"Italy\"].sort_values(\"Date\")\n",
    "\n",
    "ax = df_country.set_index(\"Date\")[\"Total Cases\"].plot(kind=\"line\", figsize=(12,6),\n",
    "                                                      ylabel=\"Count\", label=\"Total Cases\",\n",
    "                                                      title=\"COVID-19 Cases & Deaths in Italy\")\n",
    "\n",
    "df_country.set_index(\"Date\")[\"Total Deaths\"].plot(kind=\"line\", label=\"Total Deaths\", ax=ax)\n",
    "\n",
    "ax.legend()"
   ]
  },
  {
   "cell_type": "markdown",
   "id": "dbaf4260",
   "metadata": {},
   "source": [
    "### **Insights from the COVID-19 Total Cases Plot: Poland vs Italy**\n",
    "\n",
    "The line chart compares the progression of **total confirmed COVID-19 cases** between **Italy** and **Poland** over time.\n",
    "\n",
    "- **Early Outbreak (Dec 2019 – Feb 2020):**\n",
    "  - Italy reported its first cases at the end of **January 2020** (3 cases).\n",
    "  - Case counts in Italy grew slowly until **late February**, when numbers began to accelerate (17 → 229 cases within a few days).\n",
    "\n",
    "- **Rapid Growth in Italy (Feb – Mar 2020):**\n",
    "  - Italy experienced an **explosive outbreak** starting in late February.\n",
    "  - By **March 1st, 2020**, Italy already had over **1,000 cases**, and by mid-March it surpassed **20,000 cases**.\n",
    "  - This highlights Italy as one of the earliest and hardest-hit European countries.\n",
    "\n",
    "- **Poland’s Later Outbreak (Mar 2020 Onwards):**\n",
    "  - Poland reported its first case on **March 4, 2020**.\n",
    "  - Growth in Poland was **much slower** compared to Italy in the early months.\n",
    "  - By the end of March, Poland had a little over **2,000 cases**, while Italy was already above **100,000 cases**.\n",
    "\n",
    "- **Cumulative Growth Trend (Apr – Jul 2020):**\n",
    "  - Italy’s case curve rose steeply through March and April, then **flattened** by summer 2020 (around **240,000 cases by July**).\n",
    "  - Poland’s curve rose gradually but consistently, reaching **40,000+ cases by late July**, still far below Italy’s total.\n",
    "\n",
    "### Key Takeaways\n",
    "- Italy was hit **earlier and harder**, with a sharp exponential growth in spring 2020.\n",
    "- Poland’s outbreak started **later** and followed a **slower trajectory** in comparison.\n",
    "- The plot highlights how different the pandemic’s **timing and scale** were between the two countries, despite both being in Europe."
   ]
  },
  {
   "cell_type": "code",
   "execution_count": 64,
   "id": "277f43d3",
   "metadata": {},
   "outputs": [],
   "source": [
    "df_compare = df_covid[df_covid[\"Location\"].isin([\"Poland\", \"Italy\"])]"
   ]
  },
  {
   "cell_type": "code",
   "execution_count": 65,
   "id": "f7da05b7",
   "metadata": {},
   "outputs": [
    {
     "data": {
      "image/png": "[encoded data removed]",
      "text/plain": [
       "<Figure size 1200x600 with 1 Axes>"
      ]
     },
     "metadata": {},
     "output_type": "display_data"
    }
   ],
   "source": [
    "ax = df_compare.pivot(index=\"Date\", columns=\"Location\", values=\"Total Cases\") \\\n",
    "               .plot(kind=\"line\", figsize=(12,6), ylabel=\"Total Cases\",\n",
    "                     title=\"COVID-19 Total Cases: Poland vs Italy\")"
   ]
  },
  {
   "cell_type": "markdown",
   "id": "3285c4f8",
   "metadata": {},
   "source": [
    "### **Insights: COVID-19 Total Deaths – Poland vs Italy**\n",
    "\n",
    "This line chart compares the cumulative COVID-19 deaths in **Italy** and **Poland** from the start of the pandemic.  \n",
    "\n",
    "- **Italy’s trajectory**:  \n",
    "  - Deaths remained at zero until **late February 2020**.  \n",
    "  - The first spike appeared on **Feb 23, 2020**, followed by a **sharp exponential rise** throughout March.  \n",
    "  - Italy quickly became one of the earliest and hardest-hit countries in Europe, surpassing **10,000 deaths by late March**.  \n",
    "  - Growth continued steeply into April, but by May–June the curve began to **flatten**, showing that daily deaths slowed down.  \n",
    "  - By **August 2020**, Italy’s total deaths stabilized around **35,000**, with only small increases afterward.  \n",
    "\n",
    "- **Poland’s trajectory**:  \n",
    "  - Poland reported its first deaths later, in **mid-March 2020**.  \n",
    "  - The growth was **slower and more gradual** compared to Italy.  \n",
    "  - By the end of May, Poland had just over **1,000 deaths**, while Italy already exceeded **30,000**.  \n",
    "  - The curve kept climbing steadily, but never approached Italy’s early explosive surge.  \n",
    "\n",
    "- **Comparison**:  \n",
    "  - Italy’s death toll grew dramatically in the first months, while Poland’s remained relatively lower and more controlled in the same period.  \n",
    "  - The stark difference highlights how Italy was one of Europe’s epicenters early in the pandemic, while Poland experienced a **delayed and slower spread**.  \n",
    "\n",
    "**Takeaway**: Italy faced a severe and early outbreak with rapid escalation in deaths, while Poland’s curve shows a later start and slower growth, reflecting differences in timing, health policies, and possibly population exposure.  "
   ]
  },
  {
   "cell_type": "code",
   "execution_count": 66,
   "id": "7c968b89",
   "metadata": {},
   "outputs": [
    {
     "data": {
      "text/plain": [
       "<Axes: title={'center': 'COVID-19 Total Deaths: Poland vs Italy'}, xlabel='Date', ylabel='Total Deaths'>"
      ]
     },
     "execution_count": 66,
     "metadata": {},
     "output_type": "execute_result"
    },
    {
     "data": {
      "image/png": "[encoded data removed]",
      "text/plain": [
       "<Figure size 1200x600 with 1 Axes>"
      ]
     },
     "metadata": {},
     "output_type": "display_data"
    }
   ],
   "source": [
    "df_compare.pivot(index=\"Date\", columns=\"Location\", values=\"Total Deaths\") \\\n",
    "          .plot(kind=\"line\", figsize=(12,6), ylabel=\"Total Deaths\",\n",
    "                title=\"COVID-19 Total Deaths: Poland vs Italy\")"
   ]
  },
  {
   "cell_type": "markdown",
   "id": "5a6bb2a1",
   "metadata": {},
   "source": [
    "### **Top Countries by Total COVID-19 Cases and Deaths**\n",
    "\n",
    "To understand the **global impact of COVID-19**, we calculate the **maximum total cases and deaths per country** (excluding the aggregated \"World\" row). Key insights:  \n",
    "\n",
    "- Identifying the **top affected countries** provides context for where the pandemic had the most severe health outcomes.  \n",
    "- Comparing **cases vs deaths** highlights differences in **infection spread versus mortality**, which can reflect **healthcare quality, population size, and reporting practices**.  \n",
    "- This analysis sets the stage for **bar chart visualizations**, which make it easy to **compare countries at a glance**."
   ]
  },
  {
   "cell_type": "code",
   "execution_count": 67,
   "id": "e616e59c",
   "metadata": {},
   "outputs": [],
   "source": [
    "df_top = df_covid[df_covid[\"Location\"] != \"World\"]\n",
    "\n",
    "cases_per_country = df_top.groupby([\"Location\"])[\"Total Cases\"].max().sort_values(ascending=False).head()\n",
    "deaths_per_country = df_top.groupby([\"Location\"])[\"Total Deaths\"].max().sort_values(ascending=False).head()"
   ]
  },
  {
   "cell_type": "markdown",
   "id": "7cea510c",
   "metadata": {},
   "source": [
    "### **Top 5 Countries by Total COVID-19 Cases**\n",
    "\n",
    "This horizontal bar chart highlights the countries with the **highest cumulative COVID-19 cases**. Key observations:  \n",
    "\n",
    "- The **United States** leads by a significant margin with over **6.7 million reported cases**, followed by **India** (5.3M) and **Brazil** (4.5M).  \n",
    "- **Russia** and **Peru** round out the top five, showing substantial case counts despite smaller populations compared to the U.S., India, or Brazil.  \n",
    "- The wide gap between the top countries illustrates the **unequal impact of the pandemic**, influenced by factors such as:  \n",
    "  - **Population size** and density  \n",
    "  - **Testing capacity and reporting practices**  \n",
    "  - **Government policies and public health interventions**  \n",
    "- Comparing these numbers visually emphasizes **where outbreaks were most severe**, helping to identify regions that experienced the **largest burdens on healthcare systems**.  \n",
    "- This plot also serves as a baseline for **further correlation analyses**, such as linking case counts with socio-economic indicators like GDP per capita or human development index.  \n",
    "\n",
    "Overall, the visualization provides a **clear and intuitive understanding of global case distribution**."
   ]
  },
  {
   "cell_type": "code",
   "execution_count": 68,
   "id": "adcfbe2b",
   "metadata": {},
   "outputs": [
    {
     "data": {
      "text/plain": [
       "<Axes: title={'center': 'Top 5 Countries by Total COVID-19 Cases'}, xlabel='Total Cases', ylabel='Country'>"
      ]
     },
     "execution_count": 68,
     "metadata": {},
     "output_type": "execute_result"
    },
    {
     "data": {
      "image/png": "[encoded data removed]",
      "text/plain": [
       "<Figure size 1200x600 with 1 Axes>"
      ]
     },
     "metadata": {},
     "output_type": "display_data"
    }
   ],
   "source": [
    "cases_per_country.plot(kind=\"barh\", figsize=(12, 6), color=\"darkorange\",\n",
    "                       ylabel=\"Country\", xlabel=\"Total Cases\",\n",
    "                       title=\"Top 5 Countries by Total COVID-19 Cases\")"
   ]
  },
  {
   "cell_type": "markdown",
   "id": "5f074081",
   "metadata": {},
   "source": [
    "### **Top 5 Countries by Total COVID-19 Deaths**\n",
    "\n",
    "This bar chart presents the countries with the **highest cumulative COVID-19 deaths**, offering a perspective on the **mortality impact of the pandemic**. Key insights include:  \n",
    "\n",
    "- The **United States** experienced the most deaths with nearly **200,000 fatalities**, followed by **Brazil** (135,793) and **India** (85,619).  \n",
    "- **Mexico** and the **United Kingdom** complete the top five, reflecting regions with significant healthcare challenges or high population densities.  \n",
    "- Comparing this chart with the top cases chart reveals a **disparity between case numbers and deaths**:  \n",
    "  - For example, India has the second-highest number of cases but fewer deaths than the U.S. and Brazil, suggesting **differences in healthcare capacity, demographics, and reporting accuracy**.  \n",
    "  - Similarly, the United Kingdom appears in the top five for deaths despite lower case counts compared to countries like Peru or Russia, highlighting **regional differences in mortality rates**.  \n",
    "- The visual representation makes it easy to identify countries with **severe health impacts** and can inform discussions about **public health preparedness, medical infrastructure, and pandemic management strategies**.  \n",
    "- By analyzing mortality alongside case counts, we can start to explore **case-fatality rates** and the **effectiveness of government interventions and vaccination campaigns**.  \n",
    "\n",
    "This chart emphasizes that while the number of infections is important, **mortality is a critical measure of the pandemic’s overall severity**, providing deeper insights into the **human cost of COVID-19 globally**."
   ]
  },
  {
   "cell_type": "code",
   "execution_count": 69,
   "id": "d1819961",
   "metadata": {},
   "outputs": [
    {
     "data": {
      "text/plain": [
       "<Axes: title={'center': 'Top 5 Countries by Total COVID-19 Deaths'}, xlabel='Total Deaths', ylabel='Country'>"
      ]
     },
     "execution_count": 69,
     "metadata": {},
     "output_type": "execute_result"
    },
    {
     "data": {
      "image/png": "[encoded data removed]",
      "text/plain": [
       "<Figure size 1200x600 with 1 Axes>"
      ]
     },
     "metadata": {},
     "output_type": "display_data"
    }
   ],
   "source": [
    "deaths_per_country.plot(kind=\"barh\", figsize=(12, 6), color=\"darkcyan\",\n",
    "                       ylabel=\"Country\", xlabel=\"Total Deaths\",\n",
    "                       title=\"Top 5 Countries by Total COVID-19 Deaths\")"
   ]
  },
  {
   "cell_type": "markdown",
   "id": "0fd57a75",
   "metadata": {},
   "source": [
    "### **Top 10 Countries by COVID-19 Case Fatality Rate (CFR)**\n",
    "\n",
    "This horizontal bar chart shows the **Case Fatality Rate (CFR)** for the ten countries with the highest mortality relative to confirmed COVID-19 cases. Key observations:\n",
    "\n",
    "- **Yemen** stands out with a staggering **28.9% CFR**, indicating severe challenges in healthcare capacity, reporting, and pandemic management.\n",
    "- European countries like **Italy (12.1%)**, **United Kingdom (10.8%)**, **Belgium (9.98%)**, and **France (7.29%)** also have high CFRs, reflecting the **impact of early pandemic waves** and high proportions of elderly populations.\n",
    "- **Mexico (10.57%)** and **Ecuador (8.9%)** show that **high CFR is not limited to Europe**, suggesting **underreporting of cases, healthcare system limitations, or testing gaps**.\n",
    "- Smaller territories such as **Jersey, Montserrat, and Isle of Man** appear in the top 10 due to **smaller population sizes**, where a few deaths can significantly affect the CFR.\n",
    "- The chart emphasizes that **CFR varies widely across countries**, highlighting **differences in healthcare infrastructure, testing capacity, population age structure, and data reporting accuracy**.\n",
    "\n",
    "**Insight:**  \n",
    "High CFR does not always correlate with total cases, some countries may have fewer cases but proportionally higher deaths. This underscores the **importance of examining mortality rates relative to cases**, not just raw counts, to understand the true impact of COVID-19 across different regions."
   ]
  },
  {
   "cell_type": "code",
   "execution_count": 75,
   "id": "ef521237",
   "metadata": {},
   "outputs": [
    {
     "data": {
      "text/plain": [
       "<Axes: title={'center': 'Top 10 Countries by COVID-19 CFR'}, xlabel='CFR (%)', ylabel='Country'>"
      ]
     },
     "execution_count": 75,
     "metadata": {},
     "output_type": "execute_result"
    },
    {
     "data": {
      "image/png": "[encoded data removed]",
      "text/plain": [
       "<Figure size 1200x600 with 1 Axes>"
      ]
     },
     "metadata": {},
     "output_type": "display_data"
    }
   ],
   "source": [
    "df_cfr.plot(kind=\"barh\", \n",
    "                   y=\"CFR %\",\n",
    "                   color=\"purple\", \n",
    "                   xlabel=\"CFR (%)\", \n",
    "                   ylabel=\"Country\",\n",
    "                   figsize=(12, 6),\n",
    "                   title=\"Top 10 Countries by COVID-19 CFR\")"
   ]
  },
  {
   "cell_type": "markdown",
   "id": "91aa2f06",
   "metadata": {},
   "source": [
    "### **GDP per Capita vs Total COVID-19 Cases**\n",
    "\n",
    "This scatter plot explores whether **economic wealth, measured by GDP per capita, is related to the total number of COVID-19 cases** in each country. Key observations:  \n",
    "\n",
    "- The correlation value is **0.015**, which is extremely low, indicating **almost no linear relationship** between a country's GDP per capita and its total case count.  \n",
    "- High-income countries like the **United States** and **Western European nations** reported high case numbers, but several middle- or low-income countries also experienced significant outbreaks.  \n",
    "- The scatter plot shows a **wide spread of case counts across all income levels**, suggesting that **economic wealth alone does not determine the scale of infection**.  \n",
    "- This finding highlights the role of other factors in pandemic spread, including:  \n",
    "  - **Population density** and urbanization  \n",
    "  - **Testing availability and reporting accuracy**  \n",
    "  - **Government interventions, social behavior, and mobility patterns**  \n",
    "- Although richer countries may have better healthcare infrastructure, **they were not immune to large outbreaks**, possibly due to more international travel and greater social interaction.  \n",
    "- This analysis emphasizes that **pandemic outcomes are multi-factorial**, and economic strength alone is not a predictor of total cases.  \n",
    "\n",
    "The visualization effectively conveys that **COVID-19 spread was global and indiscriminate**, challenging assumptions that wealthier nations would automatically see fewer infections."
   ]
  },
  {
   "cell_type": "code",
   "execution_count": 71,
   "id": "6b4899a4",
   "metadata": {},
   "outputs": [
    {
     "data": {
      "text/plain": [
       "<Axes: title={'center': 'GDP per Capita vs Total COVID-19 Cases'}, xlabel='GDP per Capita', ylabel='Total Cases'>"
      ]
     },
     "execution_count": 71,
     "metadata": {},
     "output_type": "execute_result"
    },
    {
     "data": {
      "image/png": "[encoded data removed]",
      "text/plain": [
       "<Figure size 1200x600 with 1 Axes>"
      ]
     },
     "metadata": {},
     "output_type": "display_data"
    }
   ],
   "source": [
    "df_latest.plot(kind=\"scatter\", figsize=(12, 6), alpha=0.6, color=\"green\",\n",
    "               x=\"Gdp Per Capita\", y=\"Total Cases\", grid=True,\n",
    "               xlabel=\"GDP per Capita\", ylabel=\"Total Cases\",\n",
    "               title=\"GDP per Capita vs Total COVID-19 Cases\")"
   ]
  },
  {
   "cell_type": "markdown",
   "id": "3a85962a",
   "metadata": {},
   "source": [
    "### **Human Development Index vs Total COVID-19 Deaths**\n",
    "\n",
    "This scatter plot examines the relationship between a country's **Human Development Index (HDI)** and the **total number of COVID-19 deaths**. Key insights include:\n",
    "\n",
    "- The correlation between HDI and total deaths is approximately **0.061**, which is very weak, indicating **almost no linear relationship** between HDI and mortality.  \n",
    "- Interestingly, countries with **high HDI** like the United States, United Kingdom, and Western European nations still reported **substantial death counts**, suggesting that **better development does not fully prevent fatalities**.  \n",
    "- Some lower-HDI countries recorded fewer deaths, which could be influenced by **underreporting, lower testing rates, or younger population demographics**.  \n",
    "- The scatter plot shows a **wide distribution**, with deaths occurring across the entire HDI spectrum, reinforcing that **pandemic outcomes are influenced by multiple factors** beyond HDI alone:  \n",
    "  - **Healthcare system capacity and quality**  \n",
    "  - **Government response measures** (lockdowns, vaccination campaigns)  \n",
    "  - **Population age structure and comorbidities**  \n",
    "  - **Data reporting and reliability**  \n",
    "- Overall, the visualization highlights that **HDI provides limited predictive power for COVID-19 mortality**, emphasizing the complex nature of pandemic vulnerability.\n",
    "\n",
    "This analysis suggests that while **HDI reflects socio-economic and healthcare advantages**, it does not guarantee lower death rates during a global health crisis."
   ]
  },
  {
   "cell_type": "code",
   "execution_count": 72,
   "id": "15fd69df",
   "metadata": {},
   "outputs": [
    {
     "data": {
      "text/plain": [
       "<Axes: title={'center': 'HDI vs Total COVID-19 Deaths'}, xlabel='Human Development Index', ylabel='Total Deaths'>"
      ]
     },
     "execution_count": 72,
     "metadata": {},
     "output_type": "execute_result"
    },
    {
     "data": {
      "image/png": "[encoded data removed]",
      "text/plain": [
       "<Figure size 1200x600 with 1 Axes>"
      ]
     },
     "metadata": {},
     "output_type": "display_data"
    }
   ],
   "source": [
    "df_latest.plot(kind=\"scatter\", figsize=(12, 6), alpha=0.6, color=\"purple\",\n",
    "               x=\"Human Development Index\", y=\"Total Deaths\", grid=True,\n",
    "               xlabel=\"Human Development Index\", ylabel=\"Total Deaths\",\n",
    "               title=\"HDI vs Total COVID-19 Deaths\")"
   ]
  },
  {
   "cell_type": "markdown",
   "id": "08ecaa2f",
   "metadata": {},
   "source": [
    "---"
   ]
  },
  {
   "cell_type": "markdown",
   "id": "8da789bf",
   "metadata": {},
   "source": [
    "## **Conclusion and Key Learnings from the COVID-19 Analysis Project**\n",
    "\n",
    "### Summary of the Project\n",
    "This project analyzed the **OWID COVID-19 dataset** to explore patterns in **cases, deaths, and socio-economic indicators** across countries. Through data cleaning, processing, and visualizations, we investigated the **pandemic’s progression in specific countries**, identified the **most affected nations**, and examined how **economic and development factors correlate with COVID-19 outcomes**.\n",
    "\n",
    "### Key Outcomes and Insights\n",
    "\n",
    "1. **COVID-19 Cases and Deaths Over Time in Poland**  \n",
    "   - Cumulative **cases grew rapidly**, while **deaths remained comparatively low**, showing a clear gap between infections and fatalities.  \n",
    "   - The nearly flat initial deaths indicate **minimal mortality during early waves**, with gradual increases as the pandemic progressed.  \n",
    "   - This time-series visualization highlighted **periods of peaks and plateaus**, which can be linked to **policy changes, vaccination rollouts, and variant emergence**.  \n",
    "\n",
    "2. **Top 5 Countries by Total COVID-19 Cases and Deaths**  \n",
    "   - The **United States, India, and Brazil** recorded the highest cases, while the **U.S., Brazil, and India** also led in deaths, though with differing ranks.  \n",
    "   - Disparities between cases and deaths emphasize **differences in healthcare capacity, demographic factors, and reporting accuracy**.  \n",
    "   - These charts help identify countries where the pandemic **placed the greatest strain on healthcare systems**, providing context for global public health preparedness.\n",
    "\n",
    "3. **GDP per Capita vs Total COVID-19 Cases**  \n",
    "   - The extremely low correlation (~0.015) indicates that **economic wealth alone did not determine the spread of the virus**.  \n",
    "   - High and middle-income countries alike experienced significant outbreaks, suggesting that **population density, mobility, testing, and social behavior** played larger roles.  \n",
    "   - This insight reinforces that **pandemic outcomes are multifactorial**, and wealth does not automatically confer immunity from large-scale infections.\n",
    "\n",
    "4. **Human Development Index vs Total COVID-19 Deaths**  \n",
    "   - The weak correlation (~0.061) highlights that **HDI has limited predictive power for mortality outcomes**.  \n",
    "   - Countries with high HDI still experienced substantial deaths, while some lower-HDI countries had fewer deaths, likely due to **demographics, reporting discrepancies, or healthcare practices**.  \n",
    "   - This emphasizes that **mortality is shaped by a combination of healthcare quality, government response, and population characteristics**, not just development indicators.\n",
    "\n",
    "### Lessons Learned\n",
    "- **Pandemic impact is uneven**: Total cases and deaths vary widely across countries, showing the importance of **localized analysis**.  \n",
    "- **Socio-economic indicators are not sole predictors**: Both GDP and HDI have minimal correlation with cases or deaths, highlighting the **complexity of real-world pandemic dynamics**.  \n",
    "- **Visualizations enhance understanding**: Time-series, bar charts, and scatter plots revealed patterns not immediately obvious in raw data, helping identify **trends, outliers, and global disparities**.  \n",
    "- **Data-driven insights inform decisions**: Understanding case and death distributions can guide **public health strategies, resource allocation, and policy interventions** in future health crises.\n",
    "\n",
    "### Conclusion\n",
    "This project demonstrates that **COVID-19 outcomes cannot be explained by a single factor**. The combination of **epidemiological data, socio-economic context, and time-series analysis** provides a clearer picture of the pandemic's global impact. Ultimately, this analysis highlights the **critical role of data visualization and interpretation** in understanding complex public health challenges and preparing for future crises.\n"
   ]
  }
 ],
 "metadata": {
  "kernelspec": {
   "display_name": "Python 3",
   "language": "python",
   "name": "python3"
  },
  "language_info": {
   "codemirror_mode": {
    "name": "ipython",
    "version": 3
   },
   "file_extension": ".py",
   "mimetype": "text/x-python",
   "name": "python",
   "nbconvert_exporter": "python",
   "pygments_lexer": "ipython3",
   "version": "3.13.5"
  }
 },
 "nbformat": 4,
 "nbformat_minor": 5
}
